{
 "cells": [
  {
   "cell_type": "code",
   "execution_count": 1,
   "metadata": {},
   "outputs": [],
   "source": [
    "import os\n",
    "import pandas as pd\n",
    "import numpy as np"
   ]
  },
  {
   "cell_type": "markdown",
   "metadata": {},
   "source": [
    "## Read Dataset"
   ]
  },
  {
   "cell_type": "code",
   "execution_count": 2,
   "metadata": {},
   "outputs": [
    {
     "data": {
      "text/html": [
       "<div>\n",
       "<style scoped>\n",
       "    .dataframe tbody tr th:only-of-type {\n",
       "        vertical-align: middle;\n",
       "    }\n",
       "\n",
       "    .dataframe tbody tr th {\n",
       "        vertical-align: top;\n",
       "    }\n",
       "\n",
       "    .dataframe thead th {\n",
       "        text-align: right;\n",
       "    }\n",
       "</style>\n",
       "<table border=\"1\" class=\"dataframe\">\n",
       "  <thead>\n",
       "    <tr style=\"text-align: right;\">\n",
       "      <th></th>\n",
       "      <th>DATE</th>\n",
       "      <th>SALES</th>\n",
       "    </tr>\n",
       "  </thead>\n",
       "  <tbody>\n",
       "    <tr>\n",
       "      <th>0</th>\n",
       "      <td>9/30/18</td>\n",
       "      <td>39</td>\n",
       "    </tr>\n",
       "    <tr>\n",
       "      <th>1</th>\n",
       "      <td>10/1/18</td>\n",
       "      <td>25</td>\n",
       "    </tr>\n",
       "    <tr>\n",
       "      <th>2</th>\n",
       "      <td>10/2/18</td>\n",
       "      <td>48</td>\n",
       "    </tr>\n",
       "    <tr>\n",
       "      <th>3</th>\n",
       "      <td>10/3/18</td>\n",
       "      <td>32</td>\n",
       "    </tr>\n",
       "    <tr>\n",
       "      <th>4</th>\n",
       "      <td>10/4/18</td>\n",
       "      <td>87</td>\n",
       "    </tr>\n",
       "  </tbody>\n",
       "</table>\n",
       "</div>"
      ],
      "text/plain": [
       "      DATE  SALES\n",
       "0  9/30/18     39\n",
       "1  10/1/18     25\n",
       "2  10/2/18     48\n",
       "3  10/3/18     32\n",
       "4  10/4/18     87"
      ]
     },
     "execution_count": 2,
     "metadata": {},
     "output_type": "execute_result"
    }
   ],
   "source": [
    "df = pd.read_csv('dataset.csv')\n",
    "df.head()"
   ]
  },
  {
   "cell_type": "code",
   "execution_count": 3,
   "metadata": {},
   "outputs": [
    {
     "name": "stdout",
     "output_type": "stream",
     "text": [
      "Total no. of datapoints 173\n",
      "Total no. of datapoints 2\n"
     ]
    }
   ],
   "source": [
    "print(\"Total no. of datapoints\",df.shape[0])\n",
    "print(\"Total no. of datapoints\",df.shape[1])"
   ]
  },
  {
   "cell_type": "markdown",
   "metadata": {},
   "source": [
    "## Featurization using 'DATE' column"
   ]
  },
  {
   "cell_type": "code",
   "execution_count": 4,
   "metadata": {},
   "outputs": [
    {
     "name": "stdout",
     "output_type": "stream",
     "text": [
      "<bound method DataFrame.info of         DATE  SALES       Date  year  month  day  dayofyear  weekofyear  \\\n",
      "0    9/30/18     39 2018-09-30  2018      9   30        273          39   \n",
      "1    10/1/18     25 2018-10-01  2018     10    1        274          40   \n",
      "2    10/2/18     48 2018-10-02  2018     10    2        275          40   \n",
      "3    10/3/18     32 2018-10-03  2018     10    3        276          40   \n",
      "4    10/4/18     87 2018-10-04  2018     10    4        277          40   \n",
      "..       ...    ...        ...   ...    ...  ...        ...         ...   \n",
      "168  3/21/19     32 2019-03-21  2019      3   21         80          12   \n",
      "169  3/22/19     11 2019-03-22  2019      3   22         81          12   \n",
      "170  3/23/19     22 2019-03-23  2019      3   23         82          12   \n",
      "171  3/24/19     29 2019-03-24  2019      3   24         83          12   \n",
      "172  3/25/19     14 2019-03-25  2019      3   25         84          13   \n",
      "\n",
      "     weekday  quarter  is_month_start  is_month_end  \n",
      "0          6        3           False          True  \n",
      "1          0        4            True         False  \n",
      "2          1        4           False         False  \n",
      "3          2        4           False         False  \n",
      "4          3        4           False         False  \n",
      "..       ...      ...             ...           ...  \n",
      "168        3        1           False         False  \n",
      "169        4        1           False         False  \n",
      "170        5        1           False         False  \n",
      "171        6        1           False         False  \n",
      "172        0        1           False         False  \n",
      "\n",
      "[173 rows x 12 columns]>\n"
     ]
    },
    {
     "name": "stderr",
     "output_type": "stream",
     "text": [
      "<ipython-input-4-fa4613c452fb>:8: FutureWarning: weekofyear and week have been deprecated, please use DatetimeIndex.isocalendar().week instead, which returns a Series.  To exactly reproduce the behavior of week and weekofyear and return an Index, you may call pd.Int64Index(idx.isocalendar().week)\n",
      "  df['weekofyear'] = pd.DatetimeIndex(df['Date']).weekofyear\n"
     ]
    }
   ],
   "source": [
    "import datetime\n",
    "df['Date'] = pd.to_datetime(df['DATE'])\n",
    "#df['Date'] = df['Date'].dt.strftime('%d.%m.%Y')\n",
    "df['year'] = pd.DatetimeIndex(df['Date']).year\n",
    "df['month'] = pd.DatetimeIndex(df['Date']).month\n",
    "df['day'] = pd.DatetimeIndex(df['Date']).day\n",
    "df['dayofyear'] = pd.DatetimeIndex(df['Date']).dayofyear\n",
    "df['weekofyear'] = pd.DatetimeIndex(df['Date']).weekofyear\n",
    "df['weekday'] = pd.DatetimeIndex(df['Date']).weekday\n",
    "df['quarter'] = pd.DatetimeIndex(df['Date']).quarter\n",
    "df['is_month_start'] = pd.DatetimeIndex(df['Date']).is_month_start\n",
    "df['is_month_end'] = pd.DatetimeIndex(df['Date']).is_month_end\n",
    "print(df.info)"
   ]
  },
  {
   "cell_type": "code",
   "execution_count": 5,
   "metadata": {},
   "outputs": [
    {
     "data": {
      "text/html": [
       "<div>\n",
       "<style scoped>\n",
       "    .dataframe tbody tr th:only-of-type {\n",
       "        vertical-align: middle;\n",
       "    }\n",
       "\n",
       "    .dataframe tbody tr th {\n",
       "        vertical-align: top;\n",
       "    }\n",
       "\n",
       "    .dataframe thead th {\n",
       "        text-align: right;\n",
       "    }\n",
       "</style>\n",
       "<table border=\"1\" class=\"dataframe\">\n",
       "  <thead>\n",
       "    <tr style=\"text-align: right;\">\n",
       "      <th></th>\n",
       "      <th>SALES</th>\n",
       "      <th>year</th>\n",
       "      <th>month</th>\n",
       "      <th>day</th>\n",
       "      <th>dayofyear</th>\n",
       "      <th>weekofyear</th>\n",
       "      <th>weekday</th>\n",
       "      <th>quarter</th>\n",
       "      <th>is_month_start</th>\n",
       "      <th>is_month_end</th>\n",
       "    </tr>\n",
       "  </thead>\n",
       "  <tbody>\n",
       "    <tr>\n",
       "      <th>0</th>\n",
       "      <td>39</td>\n",
       "      <td>2018</td>\n",
       "      <td>9</td>\n",
       "      <td>30</td>\n",
       "      <td>273</td>\n",
       "      <td>39</td>\n",
       "      <td>6</td>\n",
       "      <td>3</td>\n",
       "      <td>False</td>\n",
       "      <td>True</td>\n",
       "    </tr>\n",
       "    <tr>\n",
       "      <th>1</th>\n",
       "      <td>25</td>\n",
       "      <td>2018</td>\n",
       "      <td>10</td>\n",
       "      <td>1</td>\n",
       "      <td>274</td>\n",
       "      <td>40</td>\n",
       "      <td>0</td>\n",
       "      <td>4</td>\n",
       "      <td>True</td>\n",
       "      <td>False</td>\n",
       "    </tr>\n",
       "    <tr>\n",
       "      <th>2</th>\n",
       "      <td>48</td>\n",
       "      <td>2018</td>\n",
       "      <td>10</td>\n",
       "      <td>2</td>\n",
       "      <td>275</td>\n",
       "      <td>40</td>\n",
       "      <td>1</td>\n",
       "      <td>4</td>\n",
       "      <td>False</td>\n",
       "      <td>False</td>\n",
       "    </tr>\n",
       "    <tr>\n",
       "      <th>3</th>\n",
       "      <td>32</td>\n",
       "      <td>2018</td>\n",
       "      <td>10</td>\n",
       "      <td>3</td>\n",
       "      <td>276</td>\n",
       "      <td>40</td>\n",
       "      <td>2</td>\n",
       "      <td>4</td>\n",
       "      <td>False</td>\n",
       "      <td>False</td>\n",
       "    </tr>\n",
       "    <tr>\n",
       "      <th>4</th>\n",
       "      <td>87</td>\n",
       "      <td>2018</td>\n",
       "      <td>10</td>\n",
       "      <td>4</td>\n",
       "      <td>277</td>\n",
       "      <td>40</td>\n",
       "      <td>3</td>\n",
       "      <td>4</td>\n",
       "      <td>False</td>\n",
       "      <td>False</td>\n",
       "    </tr>\n",
       "  </tbody>\n",
       "</table>\n",
       "</div>"
      ],
      "text/plain": [
       "   SALES  year  month  day  dayofyear  weekofyear  weekday  quarter  \\\n",
       "0     39  2018      9   30        273          39        6        3   \n",
       "1     25  2018     10    1        274          40        0        4   \n",
       "2     48  2018     10    2        275          40        1        4   \n",
       "3     32  2018     10    3        276          40        2        4   \n",
       "4     87  2018     10    4        277          40        3        4   \n",
       "\n",
       "   is_month_start  is_month_end  \n",
       "0           False          True  \n",
       "1            True         False  \n",
       "2           False         False  \n",
       "3           False         False  \n",
       "4           False         False  "
      ]
     },
     "execution_count": 5,
     "metadata": {},
     "output_type": "execute_result"
    }
   ],
   "source": [
    "df = df.drop(['Date','DATE'], axis = 1)\n",
    "\n",
    "df.head()"
   ]
  },
  {
   "cell_type": "markdown",
   "metadata": {},
   "source": [
    "## Exploratory Data Analysis"
   ]
  },
  {
   "cell_type": "code",
   "execution_count": 6,
   "metadata": {},
   "outputs": [],
   "source": [
    "import warnings\n",
    "warnings.filterwarnings(\"ignore\")\n",
    "import matplotlib\n",
    "matplotlib.use(u'nbAgg')\n",
    "import matplotlib.pyplot as plt\n",
    "import seaborn as sns\n",
    "%matplotlib inline"
   ]
  },
  {
   "cell_type": "code",
   "execution_count": 7,
   "metadata": {},
   "outputs": [
    {
     "data": {
      "text/plain": [
       "Text(0.5, 1.02, 'month v/s sales')"
      ]
     },
     "execution_count": 7,
     "metadata": {},
     "output_type": "execute_result"
    },
    {
     "data": {
      "image/png": "[encoded data removed]",
      "text/plain": [
       "<Figure size 432x288 with 1 Axes>"
      ]
     },
     "metadata": {
      "needs_background": "light"
     },
     "output_type": "display_data"
    }
   ],
   "source": [
    "sns.barplot(x='month',y='SALES',data=df)\n",
    "plt.title(\"month v/s sales\",y=1.02)"
   ]
  },
  {
   "cell_type": "code",
   "execution_count": 8,
   "metadata": {},
   "outputs": [
    {
     "data": {
      "text/plain": [
       "Text(0.5, 1.02, 'quarter v/s sales')"
      ]
     },
     "execution_count": 8,
     "metadata": {},
     "output_type": "execute_result"
    },
    {
     "data": {
      "image/png": "[encoded data removed]",
      "text/plain": [
       "<Figure size 432x288 with 1 Axes>"
      ]
     },
     "metadata": {
      "needs_background": "light"
     },
     "output_type": "display_data"
    }
   ],
   "source": [
    "sns.barplot(x='quarter',y='SALES',data=df)\n",
    "plt.title(\"quarter v/s sales\",y=1.02)"
   ]
  },
  {
   "cell_type": "code",
   "execution_count": 9,
   "metadata": {},
   "outputs": [
    {
     "data": {
      "text/plain": [
       "Text(0.5, 1.02, 'weekday v/s sales')"
      ]
     },
     "execution_count": 9,
     "metadata": {},
     "output_type": "execute_result"
    },
    {
     "data": {
      "image/png": "[encoded data removed]",
      "text/plain": [
       "<Figure size 432x288 with 1 Axes>"
      ]
     },
     "metadata": {
      "needs_background": "light"
     },
     "output_type": "display_data"
    }
   ],
   "source": [
    "sns.barplot(x='weekday',y='SALES',data=df)\n",
    "plt.title(\"weekday v/s sales\",y=1.02)"
   ]
  },
  {
   "cell_type": "code",
   "execution_count": 10,
   "metadata": {},
   "outputs": [],
   "source": [
    "# one hot encoding"
   ]
  },
  {
   "cell_type": "code",
   "execution_count": 11,
   "metadata": {},
   "outputs": [],
   "source": [
    "df = pd.get_dummies(df, columns=['is_month_start'], drop_first=False, prefix='m_start')\n",
    "df = pd.get_dummies(df, columns=['is_month_end'], drop_first=False, prefix='m_end')"
   ]
  },
  {
   "cell_type": "code",
   "execution_count": 12,
   "metadata": {},
   "outputs": [
    {
     "data": {
      "text/html": [
       "<div>\n",
       "<style scoped>\n",
       "    .dataframe tbody tr th:only-of-type {\n",
       "        vertical-align: middle;\n",
       "    }\n",
       "\n",
       "    .dataframe tbody tr th {\n",
       "        vertical-align: top;\n",
       "    }\n",
       "\n",
       "    .dataframe thead th {\n",
       "        text-align: right;\n",
       "    }\n",
       "</style>\n",
       "<table border=\"1\" class=\"dataframe\">\n",
       "  <thead>\n",
       "    <tr style=\"text-align: right;\">\n",
       "      <th></th>\n",
       "      <th>SALES</th>\n",
       "      <th>year</th>\n",
       "      <th>month</th>\n",
       "      <th>day</th>\n",
       "      <th>dayofyear</th>\n",
       "      <th>weekofyear</th>\n",
       "      <th>weekday</th>\n",
       "      <th>quarter</th>\n",
       "      <th>m_start_False</th>\n",
       "      <th>m_start_True</th>\n",
       "      <th>m_end_False</th>\n",
       "      <th>m_end_True</th>\n",
       "    </tr>\n",
       "  </thead>\n",
       "  <tbody>\n",
       "    <tr>\n",
       "      <th>0</th>\n",
       "      <td>39</td>\n",
       "      <td>2018</td>\n",
       "      <td>9</td>\n",
       "      <td>30</td>\n",
       "      <td>273</td>\n",
       "      <td>39</td>\n",
       "      <td>6</td>\n",
       "      <td>3</td>\n",
       "      <td>1</td>\n",
       "      <td>0</td>\n",
       "      <td>0</td>\n",
       "      <td>1</td>\n",
       "    </tr>\n",
       "    <tr>\n",
       "      <th>1</th>\n",
       "      <td>25</td>\n",
       "      <td>2018</td>\n",
       "      <td>10</td>\n",
       "      <td>1</td>\n",
       "      <td>274</td>\n",
       "      <td>40</td>\n",
       "      <td>0</td>\n",
       "      <td>4</td>\n",
       "      <td>0</td>\n",
       "      <td>1</td>\n",
       "      <td>1</td>\n",
       "      <td>0</td>\n",
       "    </tr>\n",
       "    <tr>\n",
       "      <th>2</th>\n",
       "      <td>48</td>\n",
       "      <td>2018</td>\n",
       "      <td>10</td>\n",
       "      <td>2</td>\n",
       "      <td>275</td>\n",
       "      <td>40</td>\n",
       "      <td>1</td>\n",
       "      <td>4</td>\n",
       "      <td>1</td>\n",
       "      <td>0</td>\n",
       "      <td>1</td>\n",
       "      <td>0</td>\n",
       "    </tr>\n",
       "    <tr>\n",
       "      <th>3</th>\n",
       "      <td>32</td>\n",
       "      <td>2018</td>\n",
       "      <td>10</td>\n",
       "      <td>3</td>\n",
       "      <td>276</td>\n",
       "      <td>40</td>\n",
       "      <td>2</td>\n",
       "      <td>4</td>\n",
       "      <td>1</td>\n",
       "      <td>0</td>\n",
       "      <td>1</td>\n",
       "      <td>0</td>\n",
       "    </tr>\n",
       "    <tr>\n",
       "      <th>4</th>\n",
       "      <td>87</td>\n",
       "      <td>2018</td>\n",
       "      <td>10</td>\n",
       "      <td>4</td>\n",
       "      <td>277</td>\n",
       "      <td>40</td>\n",
       "      <td>3</td>\n",
       "      <td>4</td>\n",
       "      <td>1</td>\n",
       "      <td>0</td>\n",
       "      <td>1</td>\n",
       "      <td>0</td>\n",
       "    </tr>\n",
       "    <tr>\n",
       "      <th>...</th>\n",
       "      <td>...</td>\n",
       "      <td>...</td>\n",
       "      <td>...</td>\n",
       "      <td>...</td>\n",
       "      <td>...</td>\n",
       "      <td>...</td>\n",
       "      <td>...</td>\n",
       "      <td>...</td>\n",
       "      <td>...</td>\n",
       "      <td>...</td>\n",
       "      <td>...</td>\n",
       "      <td>...</td>\n",
       "    </tr>\n",
       "    <tr>\n",
       "      <th>168</th>\n",
       "      <td>32</td>\n",
       "      <td>2019</td>\n",
       "      <td>3</td>\n",
       "      <td>21</td>\n",
       "      <td>80</td>\n",
       "      <td>12</td>\n",
       "      <td>3</td>\n",
       "      <td>1</td>\n",
       "      <td>1</td>\n",
       "      <td>0</td>\n",
       "      <td>1</td>\n",
       "      <td>0</td>\n",
       "    </tr>\n",
       "    <tr>\n",
       "      <th>169</th>\n",
       "      <td>11</td>\n",
       "      <td>2019</td>\n",
       "      <td>3</td>\n",
       "      <td>22</td>\n",
       "      <td>81</td>\n",
       "      <td>12</td>\n",
       "      <td>4</td>\n",
       "      <td>1</td>\n",
       "      <td>1</td>\n",
       "      <td>0</td>\n",
       "      <td>1</td>\n",
       "      <td>0</td>\n",
       "    </tr>\n",
       "    <tr>\n",
       "      <th>170</th>\n",
       "      <td>22</td>\n",
       "      <td>2019</td>\n",
       "      <td>3</td>\n",
       "      <td>23</td>\n",
       "      <td>82</td>\n",
       "      <td>12</td>\n",
       "      <td>5</td>\n",
       "      <td>1</td>\n",
       "      <td>1</td>\n",
       "      <td>0</td>\n",
       "      <td>1</td>\n",
       "      <td>0</td>\n",
       "    </tr>\n",
       "    <tr>\n",
       "      <th>171</th>\n",
       "      <td>29</td>\n",
       "      <td>2019</td>\n",
       "      <td>3</td>\n",
       "      <td>24</td>\n",
       "      <td>83</td>\n",
       "      <td>12</td>\n",
       "      <td>6</td>\n",
       "      <td>1</td>\n",
       "      <td>1</td>\n",
       "      <td>0</td>\n",
       "      <td>1</td>\n",
       "      <td>0</td>\n",
       "    </tr>\n",
       "    <tr>\n",
       "      <th>172</th>\n",
       "      <td>14</td>\n",
       "      <td>2019</td>\n",
       "      <td>3</td>\n",
       "      <td>25</td>\n",
       "      <td>84</td>\n",
       "      <td>13</td>\n",
       "      <td>0</td>\n",
       "      <td>1</td>\n",
       "      <td>1</td>\n",
       "      <td>0</td>\n",
       "      <td>1</td>\n",
       "      <td>0</td>\n",
       "    </tr>\n",
       "  </tbody>\n",
       "</table>\n",
       "<p>173 rows × 12 columns</p>\n",
       "</div>"
      ],
      "text/plain": [
       "     SALES  year  month  day  dayofyear  weekofyear  weekday  quarter  \\\n",
       "0       39  2018      9   30        273          39        6        3   \n",
       "1       25  2018     10    1        274          40        0        4   \n",
       "2       48  2018     10    2        275          40        1        4   \n",
       "3       32  2018     10    3        276          40        2        4   \n",
       "4       87  2018     10    4        277          40        3        4   \n",
       "..     ...   ...    ...  ...        ...         ...      ...      ...   \n",
       "168     32  2019      3   21         80          12        3        1   \n",
       "169     11  2019      3   22         81          12        4        1   \n",
       "170     22  2019      3   23         82          12        5        1   \n",
       "171     29  2019      3   24         83          12        6        1   \n",
       "172     14  2019      3   25         84          13        0        1   \n",
       "\n",
       "     m_start_False  m_start_True  m_end_False  m_end_True  \n",
       "0                1             0            0           1  \n",
       "1                0             1            1           0  \n",
       "2                1             0            1           0  \n",
       "3                1             0            1           0  \n",
       "4                1             0            1           0  \n",
       "..             ...           ...          ...         ...  \n",
       "168              1             0            1           0  \n",
       "169              1             0            1           0  \n",
       "170              1             0            1           0  \n",
       "171              1             0            1           0  \n",
       "172              1             0            1           0  \n",
       "\n",
       "[173 rows x 12 columns]"
      ]
     },
     "execution_count": 12,
     "metadata": {},
     "output_type": "execute_result"
    }
   ],
   "source": [
    "df"
   ]
  },
  {
   "cell_type": "code",
   "execution_count": null,
   "metadata": {},
   "outputs": [],
   "source": []
  },
  {
   "cell_type": "markdown",
   "metadata": {},
   "source": [
    "## Train-Test Split"
   ]
  },
  {
   "cell_type": "code",
   "execution_count": 13,
   "metadata": {},
   "outputs": [],
   "source": [
    "train=df.iloc[:138,:]\n",
    "#val=df.iloc[111:138,:]\n",
    "test=df.iloc[138:,:]"
   ]
  },
  {
   "cell_type": "code",
   "execution_count": 14,
   "metadata": {},
   "outputs": [
    {
     "name": "stdout",
     "output_type": "stream",
     "text": [
      "(138, 12)\n",
      "(35, 12)\n"
     ]
    }
   ],
   "source": [
    "print(train.shape)\n",
    "#print(val.shape)\n",
    "print(test.shape)"
   ]
  },
  {
   "cell_type": "code",
   "execution_count": 15,
   "metadata": {},
   "outputs": [],
   "source": [
    "y_train=train['SALES'].values\n",
    "#y_val=val['SALES'].values\n",
    "y_test=test['SALES'].values"
   ]
  },
  {
   "cell_type": "code",
   "execution_count": 16,
   "metadata": {},
   "outputs": [],
   "source": [
    "X_train = train.drop(['SALES'], axis = 1)\n",
    "#val = val.drop(['SALES'], axis = 1)\n",
    "X_test = test.drop(['SALES'], axis =1)"
   ]
  },
  {
   "cell_type": "code",
   "execution_count": 17,
   "metadata": {},
   "outputs": [
    {
     "data": {
      "text/html": [
       "<div>\n",
       "<style scoped>\n",
       "    .dataframe tbody tr th:only-of-type {\n",
       "        vertical-align: middle;\n",
       "    }\n",
       "\n",
       "    .dataframe tbody tr th {\n",
       "        vertical-align: top;\n",
       "    }\n",
       "\n",
       "    .dataframe thead th {\n",
       "        text-align: right;\n",
       "    }\n",
       "</style>\n",
       "<table border=\"1\" class=\"dataframe\">\n",
       "  <thead>\n",
       "    <tr style=\"text-align: right;\">\n",
       "      <th></th>\n",
       "      <th>year</th>\n",
       "      <th>month</th>\n",
       "      <th>day</th>\n",
       "      <th>dayofyear</th>\n",
       "      <th>weekofyear</th>\n",
       "      <th>weekday</th>\n",
       "      <th>quarter</th>\n",
       "      <th>m_start_False</th>\n",
       "      <th>m_start_True</th>\n",
       "      <th>m_end_False</th>\n",
       "      <th>m_end_True</th>\n",
       "    </tr>\n",
       "  </thead>\n",
       "  <tbody>\n",
       "    <tr>\n",
       "      <th>0</th>\n",
       "      <td>2018</td>\n",
       "      <td>9</td>\n",
       "      <td>30</td>\n",
       "      <td>273</td>\n",
       "      <td>39</td>\n",
       "      <td>6</td>\n",
       "      <td>3</td>\n",
       "      <td>1</td>\n",
       "      <td>0</td>\n",
       "      <td>0</td>\n",
       "      <td>1</td>\n",
       "    </tr>\n",
       "    <tr>\n",
       "      <th>1</th>\n",
       "      <td>2018</td>\n",
       "      <td>10</td>\n",
       "      <td>1</td>\n",
       "      <td>274</td>\n",
       "      <td>40</td>\n",
       "      <td>0</td>\n",
       "      <td>4</td>\n",
       "      <td>0</td>\n",
       "      <td>1</td>\n",
       "      <td>1</td>\n",
       "      <td>0</td>\n",
       "    </tr>\n",
       "    <tr>\n",
       "      <th>2</th>\n",
       "      <td>2018</td>\n",
       "      <td>10</td>\n",
       "      <td>2</td>\n",
       "      <td>275</td>\n",
       "      <td>40</td>\n",
       "      <td>1</td>\n",
       "      <td>4</td>\n",
       "      <td>1</td>\n",
       "      <td>0</td>\n",
       "      <td>1</td>\n",
       "      <td>0</td>\n",
       "    </tr>\n",
       "    <tr>\n",
       "      <th>3</th>\n",
       "      <td>2018</td>\n",
       "      <td>10</td>\n",
       "      <td>3</td>\n",
       "      <td>276</td>\n",
       "      <td>40</td>\n",
       "      <td>2</td>\n",
       "      <td>4</td>\n",
       "      <td>1</td>\n",
       "      <td>0</td>\n",
       "      <td>1</td>\n",
       "      <td>0</td>\n",
       "    </tr>\n",
       "    <tr>\n",
       "      <th>4</th>\n",
       "      <td>2018</td>\n",
       "      <td>10</td>\n",
       "      <td>4</td>\n",
       "      <td>277</td>\n",
       "      <td>40</td>\n",
       "      <td>3</td>\n",
       "      <td>4</td>\n",
       "      <td>1</td>\n",
       "      <td>0</td>\n",
       "      <td>1</td>\n",
       "      <td>0</td>\n",
       "    </tr>\n",
       "    <tr>\n",
       "      <th>...</th>\n",
       "      <td>...</td>\n",
       "      <td>...</td>\n",
       "      <td>...</td>\n",
       "      <td>...</td>\n",
       "      <td>...</td>\n",
       "      <td>...</td>\n",
       "      <td>...</td>\n",
       "      <td>...</td>\n",
       "      <td>...</td>\n",
       "      <td>...</td>\n",
       "      <td>...</td>\n",
       "    </tr>\n",
       "    <tr>\n",
       "      <th>133</th>\n",
       "      <td>2019</td>\n",
       "      <td>2</td>\n",
       "      <td>13</td>\n",
       "      <td>44</td>\n",
       "      <td>7</td>\n",
       "      <td>2</td>\n",
       "      <td>1</td>\n",
       "      <td>1</td>\n",
       "      <td>0</td>\n",
       "      <td>1</td>\n",
       "      <td>0</td>\n",
       "    </tr>\n",
       "    <tr>\n",
       "      <th>134</th>\n",
       "      <td>2019</td>\n",
       "      <td>2</td>\n",
       "      <td>14</td>\n",
       "      <td>45</td>\n",
       "      <td>7</td>\n",
       "      <td>3</td>\n",
       "      <td>1</td>\n",
       "      <td>1</td>\n",
       "      <td>0</td>\n",
       "      <td>1</td>\n",
       "      <td>0</td>\n",
       "    </tr>\n",
       "    <tr>\n",
       "      <th>135</th>\n",
       "      <td>2019</td>\n",
       "      <td>2</td>\n",
       "      <td>15</td>\n",
       "      <td>46</td>\n",
       "      <td>7</td>\n",
       "      <td>4</td>\n",
       "      <td>1</td>\n",
       "      <td>1</td>\n",
       "      <td>0</td>\n",
       "      <td>1</td>\n",
       "      <td>0</td>\n",
       "    </tr>\n",
       "    <tr>\n",
       "      <th>136</th>\n",
       "      <td>2019</td>\n",
       "      <td>2</td>\n",
       "      <td>16</td>\n",
       "      <td>47</td>\n",
       "      <td>7</td>\n",
       "      <td>5</td>\n",
       "      <td>1</td>\n",
       "      <td>1</td>\n",
       "      <td>0</td>\n",
       "      <td>1</td>\n",
       "      <td>0</td>\n",
       "    </tr>\n",
       "    <tr>\n",
       "      <th>137</th>\n",
       "      <td>2019</td>\n",
       "      <td>2</td>\n",
       "      <td>17</td>\n",
       "      <td>48</td>\n",
       "      <td>7</td>\n",
       "      <td>6</td>\n",
       "      <td>1</td>\n",
       "      <td>1</td>\n",
       "      <td>0</td>\n",
       "      <td>1</td>\n",
       "      <td>0</td>\n",
       "    </tr>\n",
       "  </tbody>\n",
       "</table>\n",
       "<p>138 rows × 11 columns</p>\n",
       "</div>"
      ],
      "text/plain": [
       "     year  month  day  dayofyear  weekofyear  weekday  quarter  m_start_False  \\\n",
       "0    2018      9   30        273          39        6        3              1   \n",
       "1    2018     10    1        274          40        0        4              0   \n",
       "2    2018     10    2        275          40        1        4              1   \n",
       "3    2018     10    3        276          40        2        4              1   \n",
       "4    2018     10    4        277          40        3        4              1   \n",
       "..    ...    ...  ...        ...         ...      ...      ...            ...   \n",
       "133  2019      2   13         44           7        2        1              1   \n",
       "134  2019      2   14         45           7        3        1              1   \n",
       "135  2019      2   15         46           7        4        1              1   \n",
       "136  2019      2   16         47           7        5        1              1   \n",
       "137  2019      2   17         48           7        6        1              1   \n",
       "\n",
       "     m_start_True  m_end_False  m_end_True  \n",
       "0               0            0           1  \n",
       "1               1            1           0  \n",
       "2               0            1           0  \n",
       "3               0            1           0  \n",
       "4               0            1           0  \n",
       "..            ...          ...         ...  \n",
       "133             0            1           0  \n",
       "134             0            1           0  \n",
       "135             0            1           0  \n",
       "136             0            1           0  \n",
       "137             0            1           0  \n",
       "\n",
       "[138 rows x 11 columns]"
      ]
     },
     "execution_count": 17,
     "metadata": {},
     "output_type": "execute_result"
    }
   ],
   "source": [
    "X_train"
   ]
  },
  {
   "cell_type": "code",
   "execution_count": 18,
   "metadata": {},
   "outputs": [
    {
     "name": "stdout",
     "output_type": "stream",
     "text": [
      "Shape of features train data (138, 11)\n",
      "Shape of target train data (138,)\n",
      "Shape of features test data (35, 11)\n",
      "Shape of target test data (35,)\n"
     ]
    }
   ],
   "source": [
    "print(\"Shape of features train data\",X_train.shape)\n",
    "print(\"Shape of target train data\",y_train.shape)\n",
    "print(\"Shape of features test data\",X_test.shape)\n",
    "print(\"Shape of target test data\",y_test.shape)"
   ]
  },
  {
   "cell_type": "markdown",
   "metadata": {},
   "source": [
    "## Random Forest"
   ]
  },
  {
   "cell_type": "code",
   "execution_count": 19,
   "metadata": {},
   "outputs": [],
   "source": [
    "from sklearn import model_selection\n",
    "from sklearn.tree import DecisionTreeRegressor\n",
    "from sklearn.ensemble import RandomForestRegressor\n",
    "from sklearn.metrics import r2_score\n",
    "from sklearn.metrics import mean_squared_error\n",
    "from math import sqrt"
   ]
  },
  {
   "cell_type": "code",
   "execution_count": 20,
   "metadata": {},
   "outputs": [
    {
     "name": "stdout",
     "output_type": "stream",
     "text": [
      "mean test scores [-23.52587394 -23.2988855  -24.82148497 -23.54352903 -23.58814376]\n",
      "Total time taken is 0:00:13.751127\n"
     ]
    }
   ],
   "source": [
    "from datetime import datetime\n",
    "from sklearn.model_selection import RandomizedSearchCV\n",
    "from scipy.stats import randint as sp_randint\n",
    "from scipy.stats import uniform\n",
    "start=datetime.now()\n",
    "param_dist = {\"n_estimators\":sp_randint(75,500),\n",
    "              \"max_depth\": sp_randint(10,15),\n",
    "              \"min_samples_split\": sp_randint(2,14),\n",
    "              \"min_samples_leaf\": sp_randint(1,20)}\n",
    "\n",
    "clf = RandomForestRegressor(random_state=25,n_jobs=-1)\n",
    "\n",
    "rf_random = RandomizedSearchCV(clf, param_distributions=param_dist,\n",
    "                                   n_iter=5,cv=10,scoring='neg_root_mean_squared_error',random_state=20)\n",
    "\n",
    "rf_random.fit(X_train,y_train)\n",
    "print('mean test scores',rf_random.cv_results_['mean_test_score'])\n",
    "#print('mean train scores',rf_random.cv_results_['mean_train_score'])\n",
    "print('Total time taken is {}'.format(datetime.now()-start))"
   ]
  },
  {
   "cell_type": "code",
   "execution_count": 21,
   "metadata": {},
   "outputs": [
    {
     "name": "stdout",
     "output_type": "stream",
     "text": [
      "RandomForestRegressor(max_depth=14, min_samples_leaf=12, min_samples_split=8,\n",
      "                      n_estimators=146, n_jobs=-1, random_state=25)\n"
     ]
    }
   ],
   "source": [
    "print(rf_random.best_estimator_)"
   ]
  },
  {
   "cell_type": "code",
   "execution_count": 22,
   "metadata": {},
   "outputs": [],
   "source": [
    "rfreg=RandomForestRegressor(n_estimators=332,max_depth=12,min_samples_leaf=12, min_samples_split=12,oob_score=True, n_jobs=-1,random_state=20)"
   ]
  },
  {
   "cell_type": "code",
   "execution_count": 23,
   "metadata": {},
   "outputs": [],
   "source": [
    "rfreg.fit(X_train,y_train)\n",
    "y_train_pred = rfreg.predict(X_train)\n",
    "y_test_pred = rfreg.predict(X_test)"
   ]
  },
  {
   "cell_type": "code",
   "execution_count": 24,
   "metadata": {},
   "outputs": [
    {
     "name": "stdout",
     "output_type": "stream",
     "text": [
      "21.242479661663964\n",
      "20.126020189624665\n"
     ]
    }
   ],
   "source": [
    "pred_train_rf= rfreg.predict(X_train)\n",
    "print(np.sqrt(mean_squared_error(y_train,pred_train_rf)))\n",
    "pred_test_rf = rfreg.predict(X_test)\n",
    "print(np.sqrt(mean_squared_error(y_test,pred_test_rf)))"
   ]
  },
  {
   "cell_type": "markdown",
   "metadata": {},
   "source": [
    "## XGBoost Model"
   ]
  },
  {
   "cell_type": "code",
   "execution_count": 25,
   "metadata": {},
   "outputs": [
    {
     "name": "stdout",
     "output_type": "stream",
     "text": [
      "Best parameter obtained from RandomSearch CV: \n",
      " {'max_depth': 5, 'n_estimators': 275}\n",
      "Best Score :  -29.8697280725817\n"
     ]
    }
   ],
   "source": [
    "from xgboost import XGBRegressor\n",
    "n_estimators = sp_randint(75,500) #[100,200,300,400,500,600,700,800,900]\n",
    "max_depth = sp_randint(2,15) #[2,4,6,8,10,12,14,16,18]\n",
    "params = {\"n_estimators\":n_estimators,\"max_depth\":max_depth}\n",
    "xgb = XGBRegressor()\n",
    "rsm = RandomizedSearchCV(xgb,params,cv=5,scoring='neg_root_mean_squared_error',n_jobs=-1)\n",
    "rsm.fit(X_train,y_train)\n",
    "print(\"Best parameter obtained from RandomSearch CV: \\n\", rsm.best_params_)\n",
    "print(\"Best Score : \", rsm.best_score_)"
   ]
  },
  {
   "cell_type": "code",
   "execution_count": 26,
   "metadata": {},
   "outputs": [],
   "source": [
    "xgb=XGBRegressor(n_estimators=450,max_depth=4, n_jobs=-1)\n",
    "xgb.fit(X_train,y_train)\n",
    "y_train_pred = xgb.predict(X_train)\n",
    "y_test_pred = xgb.predict(X_test)"
   ]
  },
  {
   "cell_type": "code",
   "execution_count": 27,
   "metadata": {},
   "outputs": [
    {
     "name": "stdout",
     "output_type": "stream",
     "text": [
      "0.010001056303625178\n",
      "0.9999998742504934\n",
      "23.306330402028212\n",
      "-0.4914838817270555\n"
     ]
    }
   ],
   "source": [
    "pred_train_rf= xgb.predict(X_train)\n",
    "print(np.sqrt(mean_squared_error(y_train,pred_train_rf)))\n",
    "print(r2_score(y_train, pred_train_rf))\n",
    "\n",
    "pred_test_rf = xgb.predict(X_test)\n",
    "print(np.sqrt(mean_squared_error(y_test,pred_test_rf)))\n",
    "print(r2_score(y_test, pred_test_rf))"
   ]
  },
  {
   "cell_type": "markdown",
   "metadata": {},
   "source": [
    "## Predictions"
   ]
  },
  {
   "cell_type": "code",
   "execution_count": 28,
   "metadata": {},
   "outputs": [
    {
     "name": "stdout",
     "output_type": "stream",
     "text": [
      "         Date  Predictions\n",
      "0  2019-03-26           27\n",
      "1  2019-03-27           26\n",
      "2  2019-03-28           26\n",
      "3  2019-03-29           26\n",
      "4  2019-03-30           24\n",
      "5  2019-03-31           24\n",
      "6  2019-04-01           33\n",
      "7  2019-04-02           33\n",
      "8  2019-04-03           32\n",
      "9  2019-04-04           34\n",
      "10 2019-04-05           34\n",
      "11 2019-04-06           32\n",
      "12 2019-04-07           29\n",
      "13 2019-04-08           31\n",
      "14 2019-04-09           31\n"
     ]
    }
   ],
   "source": [
    "import datetime\n",
    "\n",
    "def create_features(datelist):\n",
    "    df=pd.DataFrame()\n",
    "    df['Date']=datelist\n",
    "    df['Date'] = pd.to_datetime(df['Date'])\n",
    "    #df['Date'] = df['Date'].dt.strftime('%d.%m.%Y')\n",
    "    df['year'] = pd.DatetimeIndex(df['Date']).year\n",
    "    df['month'] = pd.DatetimeIndex(df['Date']).month\n",
    "    df['day'] = pd.DatetimeIndex(df['Date']).day\n",
    "    df['dayofyear'] = pd.DatetimeIndex(df['Date']).dayofyear\n",
    "    df['weekofyear'] = pd.DatetimeIndex(df['Date']).weekofyear\n",
    "    df['weekday'] = pd.DatetimeIndex(df['Date']).weekday\n",
    "    df['quarter'] = pd.DatetimeIndex(df['Date']).quarter\n",
    "    df['is_month_start'] = pd.DatetimeIndex(df['Date']).is_month_start\n",
    "    df['is_month_end'] = pd.DatetimeIndex(df['Date']).is_month_end\n",
    "    return df\n",
    "\n",
    "def create_dummies(df):\n",
    "    df = pd.get_dummies(df, columns=['is_month_start'], drop_first=False, prefix='m_start')\n",
    "    df = pd.get_dummies(df, columns=['is_month_end'], drop_first=False, prefix='m_end')\n",
    "    return df\n",
    "\n",
    "n=15\n",
    "datelist=pd.date_range(start=\"2019-03-26\",periods=n).to_pydatetime().tolist()\n",
    "datelist=[date.strftime(\"%Y-%m-%d\") for date in datelist]\n",
    "df=create_features(datelist)\n",
    "df=create_dummies(df)\n",
    "date=df['Date'].values\n",
    "df = df.drop(['Date'], axis = 1)\n",
    "train_features=list(X_train.columns.values)\n",
    "test_features=list(df.columns.values)\n",
    "for tr_feat in train_features:\n",
    "    if tr_feat not in test_features:\n",
    "        idx=train_features.index(tr_feat)\n",
    "        df.insert(loc=idx,column=tr_feat,value=[0]*len(df))\n",
    "predictions = rfreg.predict(df)\n",
    "predictions=predictions.astype('int32')\n",
    "df=pd.DataFrame()\n",
    "df['Date']=date\n",
    "df['Predictions']=predictions\n",
    "print(df)"
   ]
  },
  {
   "cell_type": "code",
   "execution_count": null,
   "metadata": {},
   "outputs": [],
   "source": []
  },
  {
   "cell_type": "code",
   "execution_count": null,
   "metadata": {},
   "outputs": [],
   "source": []
  }
 ],
 "metadata": {
  "kernelspec": {
   "display_name": "Python 3",
   "language": "python",
   "name": "python3"
  },
  "language_info": {
   "codemirror_mode": {
    "name": "ipython",
    "version": 3
   },
   "file_extension": ".py",
   "mimetype": "text/x-python",
   "name": "python",
   "nbconvert_exporter": "python",
   "pygments_lexer": "ipython3",
   "version": "3.8.3"
  }
 },
 "nbformat": 4,
 "nbformat_minor": 4
}
